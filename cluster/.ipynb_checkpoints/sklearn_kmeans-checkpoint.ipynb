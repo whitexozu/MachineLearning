{
 "cells": [
  {
   "cell_type": "code",
   "execution_count": null,
   "metadata": {
    "collapsed": true
   },
   "outputs": [],
   "source": [
    "'''\n",
    "[scikit learn - Clustering](https://scikit-learn.org/stable/modules/clustering.html)\n",
    "[K-Means 클러스터링](https://datascienceschool.net/view-notebook/2205ad8f0c5947c08696e8927b466341/)\n",
    "[Affinity Propagation](https://datascienceschool.net/view-notebook/3bd9864b09d0466995134220f6779d6d/)\n",
    "[Matplotlib의 여러가지 플롯](https://datascienceschool.net/view-notebook/6e71dbff254542d9b0a054a7c98b34ec/)\n",
    "[분류용 가상 데이터 생성](https://datascienceschool.net/view-notebook/ec26c797cec646e295d737c522733b15/)\n",
    "[분류용 예제 데이터](https://datascienceschool.net/view-notebook/577a01e24d4f456bb5060da6e47054e1/)\n",
    "[분류 성능평가](https://datascienceschool.net/view-notebook/731e0d2ef52c41c686ba53dcaf346f32/)\n",
    "[클러스터링을 평가하는 척도 - Mutual Information](https://yjucho1.github.io/clustering/mutual-information/)\n",
    "'''"
   ]
  },
  {
   "cell_type": "code",
   "execution_count": 1,
   "metadata": {
    "collapsed": false
   },
   "outputs": [
    {
     "data": {
      "image/png": "[encoded data removed]",
      "text/plain": [
       "<matplotlib.figure.Figure at 0x106ac47b8>"
      ]
     },
     "metadata": {},
     "output_type": "display_data"
    }
   ],
   "source": [
    "'''\n",
    "선행 학습\n",
    "scatter chart\n",
    "'''\n",
    "from sklearn.datasets import make_blobs\n",
    "from sklearn.cluster import KMeans\n",
    "import numpy as np\n",
    "import matplotlib.pyplot as plt\n",
    "\n",
    "np.random.seed(0)\n",
    "X = np.random.normal(0, 1, 100)\n",
    "Y = np.random.normal(0, 1, 100)\n",
    "plt.title(\"Scatter Plot\")\n",
    "plt.scatter(X, Y)\n",
    "# plt.scatter([1,2,3,4,5], [5,4,3,2,1])\n",
    "plt.show()"
   ]
  },
  {
   "cell_type": "code",
   "execution_count": 2,
   "metadata": {
    "collapsed": false
   },
   "outputs": [
    {
     "data": {
      "image/png": "[encoded data removed]",
      "text/plain": [
       "<matplotlib.figure.Figure at 0x121560898>"
      ]
     },
     "metadata": {},
     "output_type": "display_data"
    }
   ],
   "source": [
    "'''\n",
    "2차원 데어터의 clustering\n",
    "'''\n",
    "from sklearn.datasets import make_blobs\n",
    "from sklearn.cluster import KMeans\n",
    "import numpy as np\n",
    "import matplotlib.pyplot as plt\n",
    "\n",
    "# 분류용 가상 데이터 생성¶\n",
    "# n_samples : 표본 데이터의 수, 디폴트 100\n",
    "# n_features : 독립 변수의 수, 디폴트 20\n",
    "# n_informative : 독립 변수 중 종속 변수와 상관 관계가 있는 성분의 수, 디폴트 2\n",
    "# n_redundant : 독립 변수 중 다른 독립 변수의 선형 조합으로 나타나는 성분의 수, 디폴트 2\n",
    "# n_repeated : 독립 변수 중 단순 중복된 성분의 수, 디폴트 0\n",
    "# n_classes : 종속 변수의 클래스 수, 디폴트 2\n",
    "# n_clusters_per_class : 클래스 당 클러스터의 수, 디폴트 2\n",
    "# weights : 각 클래스에 할당된 표본 수\n",
    "# random_state : 난수 발생 시드\n",
    "X, _ = make_blobs(n_samples=20, n_features=2, random_state=4)\n",
    "\n",
    "def plot_KMeans(n):\n",
    "    # n_clusters: 클러스터의 갯수\n",
    "    # init: 초기화 방법. \"random\"이면 무작위, \"k-means++\"이면 K-Means++ 방법. 또는 각 데이터의 클러스터 라벨.\n",
    "    # n_init: 초기 중심값 시도 횟수. 디폴트는 10이고 10개의 무작위 중심값 목록 중 가장 좋은 값을 선택한다.\n",
    "    # max_iter: 최대 반복 횟수.\n",
    "    # random_state: 시드값.\n",
    "    model = KMeans(n_clusters=2, init=\"random\", n_init=1, max_iter=n, random_state=8).fit(X)\n",
    "    c0, c1 = model.cluster_centers_\n",
    "    plt.scatter(X[model.labels_ == 0, 0], X[model.labels_ == 0, 1], marker='v', facecolor='r', edgecolors='k')\n",
    "    plt.scatter(X[model.labels_ == 1, 0], X[model.labels_ == 1, 1], marker='^', facecolor='y', edgecolors='k')\n",
    "    plt.scatter(c0[0], c0[1], marker='v', c=\"r\", s=200)\n",
    "    plt.scatter(c1[0], c1[1], marker='^', c=\"y\", s=200)\n",
    "    plt.grid(False)\n",
    "    plt.title(\"iteration={}, score={:5.2f}\".format(n, model.score(X)))\n",
    "    \n",
    "#     print(X)\n",
    "#     print(X[model.labels_ == 0, 0])\n",
    "#     print(X[model.labels_ == 0, 1])\n",
    "#     print(X[model.labels_ == 1, 0])\n",
    "#     print(X[model.labels_ == 1, 1])\n",
    "    \n",
    "plt.figure(figsize=(8, 8))\n",
    "plt.subplot(321)\n",
    "plot_KMeans(1)\n",
    "plt.subplot(322)\n",
    "plot_KMeans(2)\n",
    "plt.subplot(323)\n",
    "plot_KMeans(3)\n",
    "plt.subplot(324)\n",
    "plot_KMeans(4)\n",
    "plt.tight_layout()\n",
    "plt.show()"
   ]
  },
  {
   "cell_type": "code",
   "execution_count": 3,
   "metadata": {
    "collapsed": false
   },
   "outputs": [],
   "source": [
    "'''\n",
    "다차원 데어터의 k-means clustering\n",
    "'''\n",
    "from sklearn.datasets import load_digits\n",
    "\n",
    "digits = load_digits()\n",
    "\n",
    "model = KMeans(init=\"k-means++\", n_clusters=10, random_state=0)\n",
    "model.fit(digits.data)\n",
    "y_pred = model.labels_\n",
    "\n",
    "# print(model) \n",
    "\n",
    "def show_digits(images, labels):\n",
    "    f = plt.figure(figsize=(8, 2))\n",
    "    i = 0\n",
    "    while (i < 10 and i < images.shape[0]):\n",
    "        ax = f.add_subplot(1, 10, i + 1)\n",
    "        ax.imshow(images[i], cmap=plt.cm.bone)\n",
    "        ax.grid(False)\n",
    "        ax.set_title(labels[i])\n",
    "        ax.xaxis.set_ticks([])\n",
    "        ax.yaxis.set_ticks([])\n",
    "        plt.tight_layout()\n",
    "        i += 1\n",
    "        \n",
    "def show_cluster(images, y_pred, cluster_number):\n",
    "    images = images[y_pred == cluster_number]\n",
    "    y_pred = y_pred[y_pred == cluster_number]\n",
    "    show_digits(images, y_pred)\n",
    "    \n",
    "for i in range(10):\n",
    "    show_cluster(digits.images, y_pred, i)"
   ]
  },
  {
   "cell_type": "code",
   "execution_count": 4,
   "metadata": {
    "collapsed": false
   },
   "outputs": [
    {
     "data": {
      "text/plain": [
       "array([[  1,   0,   0,   0,   0, 177,   0,   0,   0,   0],\n",
       "       [  0,   1,   1,   0,   0,   0,  55,  99,  24,   2],\n",
       "       [  0,  13,   0,   2,   3,   1,   2,   8, 148,   0],\n",
       "       [  0, 154,   2,  13,   7,   0,   0,   7,   0,   0],\n",
       "       [163,   0,   0,   0,   7,   0,   7,   4,   0,   0],\n",
       "       [  2,   0, 136,  43,   0,   0,   0,   0,   0,   1],\n",
       "       [  0,   0,   0,   0,   0,   1,   1,   2,   0, 177],\n",
       "       [  0,   0,   0,   0, 177,   0,   0,   2,   0,   0],\n",
       "       [  0,   2,   4,  53,   5,   0,   5, 100,   3,   2],\n",
       "       [  0,   6,   6, 139,   7,   0,  20,   2,   0,   0]])"
      ]
     },
     "execution_count": 4,
     "metadata": {},
     "output_type": "execute_result"
    }
   ],
   "source": [
    "'''\n",
    "분류 성능평가, 봐도 잘 모르겠음\n",
    "'''\n",
    "from sklearn.metrics import confusion_matrix\n",
    "\n",
    "confusion_matrix(digits.target, y_pred)"
   ]
  },
  {
   "cell_type": "code",
   "execution_count": 5,
   "metadata": {
    "collapsed": false
   },
   "outputs": [
    {
     "name": "stdout",
     "output_type": "stream",
     "text": [
      "NMI: 0.7468903554645795\n",
      "ARI: 0.6686991223627669\n",
      "AMI: 0.7397973157276612\n",
      "Silhouette Score: 0.18251916424600556\n"
     ]
    },
    {
     "name": "stderr",
     "output_type": "stream",
     "text": [
      "/Users/whitexozu/anaconda/envs/py35/lib/python3.5/site-packages/sklearn/metrics/cluster/supervised.py:859: FutureWarning: The behavior of NMI will change in version 0.22. To match the behavior of 'v_measure_score', NMI will use average_method='arithmetic' by default.\n",
      "  FutureWarning)\n",
      "/Users/whitexozu/anaconda/envs/py35/lib/python3.5/site-packages/sklearn/metrics/cluster/supervised.py:746: FutureWarning: The behavior of AMI will change in version 0.22. To match the behavior of 'v_measure_score', AMI will use average_method='arithmetic' by default.\n",
      "  FutureWarning)\n"
     ]
    }
   ],
   "source": [
    "'''\n",
    "clustering 성능평가\n",
    "'''\n",
    "from sklearn.metrics.cluster import normalized_mutual_info_score, adjusted_mutual_info_score, adjusted_rand_score, silhouette_score\n",
    "\n",
    "# supervised\n",
    "print(\"NMI:\", normalized_mutual_info_score(digits.target, y_pred))\n",
    "print(\"ARI:\", adjusted_rand_score(digits.target, y_pred))\n",
    "print(\"AMI:\", adjusted_mutual_info_score(digits.target, y_pred))\n",
    "\n",
    "# unsupervised (cluster 의 거리로 계산, 1에 가까울 수록 좋은결과)\n",
    "print(\"Silhouette Score:\", silhouette_score(digits.data, y_pred))"
   ]
  },
  {
   "cell_type": "code",
   "execution_count": 9,
   "metadata": {
    "collapsed": false
   },
   "outputs": [
    {
     "name": "stdout",
     "output_type": "stream",
     "text": [
      "\n",
      "성능 비교\n",
      "\n",
      "n_digits: 10, \t n_samples 1797, \t n_features 64\n",
      "__________________________________________________________________________________\n",
      "init\t\ttime\tinertia\thomo\tcompl\tv-meas\tARI\tAMI\tsilhouette\n",
      "k-means++\t0.19s\t69432\t0.602\t0.650\t0.625\t0.465\t0.621\t0.146\n",
      "random   \t0.15s\t69694\t0.669\t0.710\t0.689\t0.553\t0.686\t0.147\n",
      "PCA-based\t0.03s\t70804\t0.671\t0.698\t0.684\t0.561\t0.681\t0.118\n",
      "__________________________________________________________________________________\n"
     ]
    }
   ],
   "source": [
    "'''\n",
    "성능 비교\n",
    "'''\n",
    "print(__doc__)\n",
    "\n",
    "from time import time\n",
    "import numpy as np\n",
    "import matplotlib.pyplot as plt\n",
    "\n",
    "from sklearn import metrics\n",
    "from sklearn.cluster import KMeans\n",
    "from sklearn.datasets import load_digits\n",
    "from sklearn.decomposition import PCA\n",
    "from sklearn.preprocessing import scale\n",
    "\n",
    "np.random.seed(42)\n",
    "\n",
    "digits = load_digits()\n",
    "data = scale(digits.data)\n",
    "\n",
    "n_samples, n_features = data.shape\n",
    "n_digits = len(np.unique(digits.target))\n",
    "labels = digits.target\n",
    "\n",
    "sample_size = 300\n",
    "\n",
    "print(\"n_digits: %d, \\t n_samples %d, \\t n_features %d\"\n",
    "      % (n_digits, n_samples, n_features))\n",
    "\n",
    "\n",
    "print(82 * '_')\n",
    "print('init\\t\\ttime\\tinertia\\thomo\\tcompl\\tv-meas\\tARI\\tAMI\\tsilhouette')\n",
    "\n",
    "\n",
    "def bench_k_means(estimator, name, data):\n",
    "    t0 = time()\n",
    "    estimator.fit(data)\n",
    "    print(data)\n",
    "    print('%-9s\\t%.2fs\\t%i\\t%.3f\\t%.3f\\t%.3f\\t%.3f\\t%.3f\\t%.3f'\n",
    "          % (name, (time() - t0), estimator.inertia_,\n",
    "             metrics.homogeneity_score(labels, estimator.labels_),\n",
    "             metrics.completeness_score(labels, estimator.labels_),\n",
    "             metrics.v_measure_score(labels, estimator.labels_),\n",
    "             metrics.adjusted_rand_score(labels, estimator.labels_),\n",
    "             metrics.adjusted_mutual_info_score(labels,  estimator.labels_,\n",
    "                                                average_method='arithmetic'),\n",
    "             metrics.silhouette_score(data, estimator.labels_,\n",
    "                                      metric='euclidean',\n",
    "                                      sample_size=sample_size)))\n",
    "\n",
    "bench_k_means(KMeans(init='k-means++', n_clusters=n_digits, n_init=10),\n",
    "              name=\"k-means++\", data=data)\n",
    "\n",
    "bench_k_means(KMeans(init='random', n_clusters=n_digits, n_init=10),\n",
    "              name=\"random\", data=data)\n",
    "\n",
    "# in this case the seeding of the centers is deterministic, hence we run the\n",
    "# kmeans algorithm only once with n_init=1\n",
    "pca = PCA(n_components=n_digits).fit(data)\n",
    "bench_k_means(KMeans(init=pca.components_, n_clusters=n_digits, n_init=1),\n",
    "              name=\"PCA-based\",\n",
    "              data=data)\n",
    "print(82 * '_')"
   ]
  }
 ],
 "metadata": {
  "kernelspec": {
   "display_name": "Python 3",
   "language": "python",
   "name": "python3"
  },
  "language_info": {
   "codemirror_mode": {
    "name": "ipython",
    "version": 3
   },
   "file_extension": ".py",
   "mimetype": "text/x-python",
   "name": "python",
   "nbconvert_exporter": "python",
   "pygments_lexer": "ipython3",
   "version": "3.5.2"
  }
 },
 "nbformat": 4,
 "nbformat_minor": 2
}
